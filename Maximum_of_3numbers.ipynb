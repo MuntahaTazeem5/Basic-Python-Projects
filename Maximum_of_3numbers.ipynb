{
  "nbformat": 4,
  "nbformat_minor": 0,
  "metadata": {
    "colab": {
      "provenance": [],
      "authorship_tag": "ABX9TyNSetVM5yodPhccyjnOfKgT",
      "include_colab_link": true
    },
    "kernelspec": {
      "name": "python3",
      "display_name": "Python 3"
    },
    "language_info": {
      "name": "python"
    }
  },
  "cells": [
    {
      "cell_type": "markdown",
      "metadata": {
        "id": "view-in-github",
        "colab_type": "text"
      },
      "source": [
        "<a href=\"https://colab.research.google.com/github/MuntahaTazeem5/Basic-Python-Projects/blob/main/Maximum_of_3numbers.ipynb\" target=\"_parent\"><img src=\"https://colab.research.google.com/assets/colab-badge.svg\" alt=\"Open In Colab\"/></a>"
      ]
    },
    {
      "cell_type": "markdown",
      "source": [
        "Write a program to find the largest of three numbers using conditional statements.\n",
        "\n",
        "🧭 Instructions:\n",
        "\n",
        "Ask the user for three numbers.\n",
        "\n",
        "Use if/elif/else to compare and determine the largest.\n",
        "\n",
        "Print the result.\n",
        "\n",
        "No built-in max() function allowed.\n",
        "\n",
        "Create a function find_max(a, b, c)."
      ],
      "metadata": {
        "id": "C5x5W8Ih2Po6"
      }
    },
    {
      "cell_type": "code",
      "source": [
        "num1=int(input(\"enter first number: \"))\n",
        "num2=int(input(\"enter second number: \"))\n",
        "num3=int(input(\"enter third number: \"))"
      ],
      "metadata": {
        "colab": {
          "base_uri": "https://localhost:8080/"
        },
        "id": "OjBZ8r9z2UMV",
        "outputId": "f4a1628c-76c0-42c0-de31-5bd6c90d46a3"
      },
      "execution_count": 1,
      "outputs": [
        {
          "name": "stdout",
          "output_type": "stream",
          "text": [
            "enter first number: 4\n",
            "enter second number: 8\n",
            "enter third number: 12\n"
          ]
        }
      ]
    },
    {
      "cell_type": "code",
      "source": [
        "def find_max(num1,num2,num3):\n",
        "    if num1>num2 and num1>num3:\n",
        "        return num1\n",
        "    elif num2>num1 and num2>num3:\n",
        "        return num2\n",
        "    else:\n",
        "        return num3\n",
        "\n",
        "result = find_max(num1, num2, num3)\n",
        "print(result)"
      ],
      "metadata": {
        "colab": {
          "base_uri": "https://localhost:8080/"
        },
        "id": "cM9xpezQ2eOc",
        "outputId": "1e53433a-450b-45c1-fb8a-ca94930ae9e2"
      },
      "execution_count": 3,
      "outputs": [
        {
          "output_type": "stream",
          "name": "stdout",
          "text": [
            "12\n"
          ]
        }
      ]
    }
  ]
}