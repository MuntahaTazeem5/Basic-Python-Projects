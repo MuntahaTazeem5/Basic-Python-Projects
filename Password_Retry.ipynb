{
  "nbformat": 4,
  "nbformat_minor": 0,
  "metadata": {
    "colab": {
      "provenance": [],
      "authorship_tag": "ABX9TyObNMhaaz4MQkJlilyhhGsQ",
      "include_colab_link": true
    },
    "kernelspec": {
      "name": "python3",
      "display_name": "Python 3"
    },
    "language_info": {
      "name": "python"
    }
  },
  "cells": [
    {
      "cell_type": "markdown",
      "metadata": {
        "id": "view-in-github",
        "colab_type": "text"
      },
      "source": [
        "<a href=\"https://colab.research.google.com/github/MuntahaTazeem5/Basic-Python-Projects/blob/main/Password_Retry.ipynb\" target=\"_parent\"><img src=\"https://colab.research.google.com/assets/colab-badge.svg\" alt=\"Open In Colab\"/></a>"
      ]
    },
    {
      "cell_type": "markdown",
      "source": [
        "Simulate a login system where the user is allowed up to 3 attempts to enter the correct password.\n",
        "\n",
        "Instructions:\n",
        "\n",
        "Set a predefined password (e.g., \"python123\").\n",
        "\n",
        "Use a while loop to allow up to 3 tries.\n",
        "\n",
        "On each incorrect attempt, print how many tries are left.\n",
        "\n",
        "After 3 failed attempts, print \"Access denied\".\n",
        "\n",
        "On correct entry, print \"Access granted\" and exit the loop.\n",
        "\n",
        "No need to use functions unless practicing modularity."
      ],
      "metadata": {
        "id": "ppwwz5x-Tbbj"
      }
    },
    {
      "cell_type": "code",
      "source": [
        "correct_password = \"python123\""
      ],
      "metadata": {
        "id": "BZCdG75wTfwT"
      },
      "execution_count": 2,
      "outputs": []
    },
    {
      "cell_type": "code",
      "source": [
        "attempts_left=3\n"
      ],
      "metadata": {
        "id": "C9lHi4IXTjSI"
      },
      "execution_count": 3,
      "outputs": []
    },
    {
      "cell_type": "code",
      "source": [
        "while attempts_left > 0:\n",
        "    entered_password = input(\"Enter your password: \")\n",
        "    if entered_password == correct_password:\n",
        "        print(\"Access Granted\")\n",
        "        break  # break the loop if password is correct\n",
        "    else:\n",
        "        attempts_left -= 1\n",
        "        if attempts_left > 0:\n",
        "            print(f\"Incorrect password. You have {attempts_left} attempt(s) left.\")\n",
        "        else:\n",
        "            print(\"Access Denied\")"
      ],
      "metadata": {
        "colab": {
          "base_uri": "https://localhost:8080/"
        },
        "id": "55gtsN7Yfat4",
        "outputId": "cf2337e3-ba56-4f5e-a90f-d5300c2fe0a5"
      },
      "execution_count": 11,
      "outputs": [
        {
          "output_type": "stream",
          "name": "stdout",
          "text": [
            "Enter your password: python123\n",
            "Access Granted\n"
          ]
        }
      ]
    }
  ]
}