{
  "nbformat": 4,
  "nbformat_minor": 0,
  "metadata": {
    "colab": {
      "provenance": [],
      "authorship_tag": "ABX9TyPMHoUUELd0Sf5rs3lqXlq9",
      "include_colab_link": true
    },
    "kernelspec": {
      "name": "python3",
      "display_name": "Python 3"
    },
    "language_info": {
      "name": "python"
    }
  },
  "cells": [
    {
      "cell_type": "markdown",
      "metadata": {
        "id": "view-in-github",
        "colab_type": "text"
      },
      "source": [
        "<a href=\"https://colab.research.google.com/github/MuntahaTazeem5/Basic-Python-Projects/blob/main/Snapple_Facts.ipynb\" target=\"_parent\"><img src=\"https://colab.research.google.com/assets/colab-badge.svg\" alt=\"Open In Colab\"/></a>"
      ]
    },
    {
      "cell_type": "markdown",
      "source": [
        "Snapple is a famous tea drink brand from Queens, New York. Each bottle cap comes with a silly fun fact.\n",
        "\n",
        "Use the random module to create a number from 0 to 5.\n",
        "\n",
        "Then use an if/elif/else statement to print out one of these six random Snapple facts:\n",
        "\n",
        "0 - 'Flamingos turn pink from eating shrimp.'\n",
        "1 - 'The only food that doesn\\'t spoil is honey.'\n",
        "2 - 'Shrimp can only swim backwards.'\n",
        "3 - 'A taste bud\\'s life span is about 10 days.'\n",
        "4 - 'It is impossible to sneeze while sleeping.'\n",
        "5 - 'It is illegal to sing off-key in North Carolina.'\n",
        "Get help\n",
        "\n"
      ],
      "metadata": {
        "id": "9uPdZRkZ536a"
      }
    },
    {
      "cell_type": "code",
      "source": [
        "import random"
      ],
      "metadata": {
        "id": "excg8Q6K548L"
      },
      "execution_count": 1,
      "outputs": []
    },
    {
      "cell_type": "code",
      "source": [
        "num= random.randint(0,5)"
      ],
      "metadata": {
        "id": "NIukmh_s5_Ip"
      },
      "execution_count": 2,
      "outputs": []
    },
    {
      "cell_type": "code",
      "source": [
        "if num==0:\n",
        "  print(\"Flamingos turn pink from eating shrimp\")\n",
        "elif num==1:\n",
        "  print(\"The only food that doesn\\'t spoil is honey\")\n",
        "elif num ==2:\n",
        "  print(\"Shrimp can only swim backwards\")\n",
        "elif num==3:\n",
        "  print(\"A taste bud\\'s life span is about 10 days\")\n",
        "elif num==4:\n",
        "  print(\"It is impossible to sneeze while sleeping\")\n",
        "else:\n",
        "  print(\"It is illegal to sing off-key in North Carolina\")"
      ],
      "metadata": {
        "colab": {
          "base_uri": "https://localhost:8080/"
        },
        "id": "F8HjptiX6CVy",
        "outputId": "da9e2400-d095-4730-ff05-07d16bc4b664"
      },
      "execution_count": 3,
      "outputs": [
        {
          "output_type": "stream",
          "name": "stdout",
          "text": [
            "It is impossible to sneeze while sleeping\n"
          ]
        }
      ]
    }
  ]
}