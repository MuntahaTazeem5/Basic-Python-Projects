{
  "nbformat": 4,
  "nbformat_minor": 0,
  "metadata": {
    "colab": {
      "provenance": [],
      "authorship_tag": "ABX9TyO9n1RPqOHcppis4/nL6/On",
      "include_colab_link": true
    },
    "kernelspec": {
      "name": "python3",
      "display_name": "Python 3"
    },
    "language_info": {
      "name": "python"
    }
  },
  "cells": [
    {
      "cell_type": "markdown",
      "metadata": {
        "id": "view-in-github",
        "colab_type": "text"
      },
      "source": [
        "<a href=\"https://colab.research.google.com/github/MuntahaTazeem5/Basic-Python-Projects/blob/main/Multiplication_table.ipynb\" target=\"_parent\"><img src=\"https://colab.research.google.com/assets/colab-badge.svg\" alt=\"Open In Colab\"/></a>"
      ]
    },
    {
      "cell_type": "markdown",
      "source": [
        "Generate and print the multiplication table for a number using a while loop.\n",
        "\n",
        "🧭 Instructions:\n",
        "\n",
        "Ask the user for a number.\n",
        "\n",
        "Use a while loop to print the multiplication table from 1 to 10.\n",
        "\n",
        "Format the output like: 5 x 1 = 5, etc.\n",
        "\n",
        "Use a function print_table(num)."
      ],
      "metadata": {
        "id": "2MxX_Rcv5-Ac"
      }
    },
    {
      "cell_type": "code",
      "source": [
        "num=int(input(\"Enter the number: \"))"
      ],
      "metadata": {
        "colab": {
          "base_uri": "https://localhost:8080/"
        },
        "id": "5K8xK0g_6DAG",
        "outputId": "72d901f4-5148-4ac2-e067-e1e36c217540"
      },
      "execution_count": 6,
      "outputs": [
        {
          "name": "stdout",
          "output_type": "stream",
          "text": [
            "Enter the number: 5\n"
          ]
        }
      ]
    },
    {
      "cell_type": "code",
      "source": [
        "def print_table(num):\n",
        "  i = 1\n",
        "  while i <= 10:\n",
        "    print(f\"{num} x {i} = {num * i}\")\n",
        "    i = i + 1\n",
        ""
      ],
      "metadata": {
        "id": "Q9Hu5PDs6L0x"
      },
      "execution_count": 10,
      "outputs": []
    },
    {
      "cell_type": "code",
      "metadata": {
        "colab": {
          "base_uri": "https://localhost:8080/"
        },
        "id": "89b7e82f",
        "outputId": "36262f4c-5c4b-444c-e924-9921594fecf5"
      },
      "source": [
        "print_table(num)"
      ],
      "execution_count": 11,
      "outputs": [
        {
          "output_type": "stream",
          "name": "stdout",
          "text": [
            "5 x 1 = 5\n",
            "5 x 2 = 10\n",
            "5 x 3 = 15\n",
            "5 x 4 = 20\n",
            "5 x 5 = 25\n",
            "5 x 6 = 30\n",
            "5 x 7 = 35\n",
            "5 x 8 = 40\n",
            "5 x 9 = 45\n",
            "5 x 10 = 50\n"
          ]
        }
      ]
    }
  ]
}