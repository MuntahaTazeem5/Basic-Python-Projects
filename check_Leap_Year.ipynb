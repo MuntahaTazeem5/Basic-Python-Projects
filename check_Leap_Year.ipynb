{
  "nbformat": 4,
  "nbformat_minor": 0,
  "metadata": {
    "colab": {
      "provenance": [],
      "authorship_tag": "ABX9TyNeE0nVWa0dxqS4EledzDJu",
      "include_colab_link": true
    },
    "kernelspec": {
      "name": "python3",
      "display_name": "Python 3"
    },
    "language_info": {
      "name": "python"
    }
  },
  "cells": [
    {
      "cell_type": "markdown",
      "metadata": {
        "id": "view-in-github",
        "colab_type": "text"
      },
      "source": [
        "<a href=\"https://colab.research.google.com/github/MuntahaTazeem5/Basic-Python-Projects/blob/main/check_Leap_Year.ipynb\" target=\"_parent\"><img src=\"https://colab.research.google.com/assets/colab-badge.svg\" alt=\"Open In Colab\"/></a>"
      ]
    },
    {
      "cell_type": "markdown",
      "source": [
        "Determine whether a given year is a leap year based on rules of the Gregorian calendar.\n",
        "\n",
        "🧭 Instructions:\n",
        "\n",
        "Ask the user to input a year.\n",
        "\n",
        "Apply the following rules:\n",
        "\n",
        "If divisible by 4 → leap year\n",
        "\n",
        "But if divisible by 100 → not a leap year\n",
        "\n",
        "Unless divisible by 400 → leap year\n",
        "\n",
        "Use nested if/else conditions.\n",
        "\n",
        "Print whether the year is a leap year or not.\n",
        "\n",
        "Wrap in a function is_leap_year(year).\n"
      ],
      "metadata": {
        "id": "V4qTVjtP7VqI"
      }
    },
    {
      "cell_type": "code",
      "source": [
        "year=int(input(\"Enter a year: \"))"
      ],
      "metadata": {
        "colab": {
          "base_uri": "https://localhost:8080/"
        },
        "id": "YLJUJ_9Y7Zyl",
        "outputId": "b8e32230-3bbd-483f-f131-52fe12253f8b"
      },
      "execution_count": 1,
      "outputs": [
        {
          "name": "stdout",
          "output_type": "stream",
          "text": [
            "Enter a year: 2\n"
          ]
        }
      ]
    },
    {
      "cell_type": "code",
      "source": [
        "def is_leap_year(year):\n",
        "    if year % 4 == 0:\n",
        "        if year % 100 == 0:\n",
        "            if year % 400 == 0:\n",
        "                print(f\"{year} is a leap year\")\n",
        "            else:\n",
        "                print(f\"{year} is not a leap year\")\n",
        "        else:\n",
        "            print(f\"{year} is a leap year\")\n",
        "    else:\n",
        "        print(f\"{year} is not a leap year\")"
      ],
      "metadata": {
        "id": "kBG7XfCG7iA_"
      },
      "execution_count": 6,
      "outputs": []
    },
    {
      "cell_type": "code",
      "source": [
        "is_leap_year(year)"
      ],
      "metadata": {
        "colab": {
          "base_uri": "https://localhost:8080/"
        },
        "id": "c_SbpDVU71zo",
        "outputId": "5f1e3a5f-f503-4cb0-b356-4845139151c3"
      },
      "execution_count": 7,
      "outputs": [
        {
          "output_type": "stream",
          "name": "stdout",
          "text": [
            "2 is not a leap year\n"
          ]
        }
      ]
    }
  ]
}