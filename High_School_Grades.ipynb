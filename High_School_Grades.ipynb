{
  "nbformat": 4,
  "nbformat_minor": 0,
  "metadata": {
    "colab": {
      "provenance": [],
      "authorship_tag": "ABX9TyM9G2ZOTwoH04zN4N7AvgPq",
      "include_colab_link": true
    },
    "kernelspec": {
      "name": "python3",
      "display_name": "Python 3"
    },
    "language_info": {
      "name": "python"
    }
  },
  "cells": [
    {
      "cell_type": "markdown",
      "metadata": {
        "id": "view-in-github",
        "colab_type": "text"
      },
      "source": [
        "<a href=\"https://colab.research.google.com/github/MuntahaTazeem5/Basic-Python-Projects/blob/main/High_School_Grades.ipynb\" target=\"_parent\"><img src=\"https://colab.research.google.com/assets/colab-badge.svg\" alt=\"Open In Colab\"/></a>"
      ]
    },
    {
      "cell_type": "markdown",
      "source": [
        "U.S. high schools typically last for four years, from freshman year to senior year. 🚌💨\n",
        "\n",
        "First, ask the user to enter their grade as an integer.\n",
        "\n",
        "Create a four-year high school grade system using an if/elif/else statement:\n",
        "\n",
        "grade is 9, print 'Freshman'\n",
        "grade is 10, print 'Sophomore'\n",
        "grade is 11, print 'Junior'\n",
        "grade is 12, print 'Senior'\n",
        "Everything else is 'TBD'"
      ],
      "metadata": {
        "id": "iqBYYd0X5Yr5"
      }
    },
    {
      "cell_type": "code",
      "source": [
        "Grade=int(input(\"Enter your Grade: \"))"
      ],
      "metadata": {
        "colab": {
          "base_uri": "https://localhost:8080/"
        },
        "id": "pbNjYYs43ZXq",
        "outputId": "dce1feae-0898-4226-ace4-e76e5d6d1232"
      },
      "execution_count": null,
      "outputs": [
        {
          "name": "stdout",
          "output_type": "stream",
          "text": [
            "Enter your Grade: 11\n"
          ]
        }
      ]
    },
    {
      "cell_type": "code",
      "source": [
        "if Grade==9:\n",
        "  print(\"Freshman\")\n",
        "elif Grade == 10:\n",
        "    print(\"Sophomore\")\n",
        "elif Grade == 11:\n",
        "    print(\"Junior\")\n",
        "elif Grade == 12:\n",
        "    print(\"Senior\")\n",
        "else:\n",
        "    print(\"TBD\")"
      ],
      "metadata": {
        "colab": {
          "base_uri": "https://localhost:8080/"
        },
        "id": "nhEad1wP3e3a",
        "outputId": "8741ed89-49f1-4add-e7cb-bdc8887d3d7c"
      },
      "execution_count": null,
      "outputs": [
        {
          "output_type": "stream",
          "name": "stdout",
          "text": [
            "Junior\n"
          ]
        }
      ]
    },
    {
      "cell_type": "code",
      "source": [],
      "metadata": {
        "id": "Mr5_kqfk3mwt"
      },
      "execution_count": null,
      "outputs": []
    }
  ]
}