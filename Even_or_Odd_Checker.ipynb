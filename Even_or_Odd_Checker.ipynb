{
  "nbformat": 4,
  "nbformat_minor": 0,
  "metadata": {
    "colab": {
      "provenance": [],
      "authorship_tag": "ABX9TyNbJH0ecFyknlo3FyqL1wI1",
      "include_colab_link": true
    },
    "kernelspec": {
      "name": "python3",
      "display_name": "Python 3"
    },
    "language_info": {
      "name": "python"
    }
  },
  "cells": [
    {
      "cell_type": "markdown",
      "metadata": {
        "id": "view-in-github",
        "colab_type": "text"
      },
      "source": [
        "<a href=\"https://colab.research.google.com/github/MuntahaTazeem5/Basic-Python-Projects/blob/main/Even_or_Odd_Checker.ipynb\" target=\"_parent\"><img src=\"https://colab.research.google.com/assets/colab-badge.svg\" alt=\"Open In Colab\"/></a>"
      ]
    },
    {
      "cell_type": "markdown",
      "source": [
        "Create a program that asks the user to input a number. The program should determine if the number is even or odd and display the result.\n",
        "Ask the user to enter an integer.\n",
        "\n",
        "Use the modulus operator (%) to check if the number is divisible by 2.\n",
        "\n",
        "Use an if/else statement to print:\n",
        "\n",
        "\"Even number\" if it’s divisible by 2.\n",
        "\n",
        "\"Odd number\" otherwise.\n",
        "\n",
        "Wrap the logic in a function called check_even_odd(number)."
      ],
      "metadata": {
        "id": "y3pjOqdIDauH"
      }
    },
    {
      "cell_type": "code",
      "source": [
        "num=int(input(\"Enter a Number: \"))"
      ],
      "metadata": {
        "colab": {
          "base_uri": "https://localhost:8080/"
        },
        "id": "OaEfLeEDDlSa",
        "outputId": "985494d3-0d14-4b65-8b28-d030434bb75c"
      },
      "execution_count": 1,
      "outputs": [
        {
          "name": "stdout",
          "output_type": "stream",
          "text": [
            "Enter a Number: 3\n"
          ]
        }
      ]
    },
    {
      "cell_type": "code",
      "source": [
        "if num%2==0:\n",
        "  print(\"Even Number\")\n",
        "elif num%2 !=0:\n",
        "  print(\"Odd Number\")\n",
        "else:\n",
        "  print(\"Invalid Input\")"
      ],
      "metadata": {
        "colab": {
          "base_uri": "https://localhost:8080/"
        },
        "id": "HFRyrW1pDwXQ",
        "outputId": "40e20a7c-4c54-47f8-a79c-e13e140ecb8d"
      },
      "execution_count": 2,
      "outputs": [
        {
          "output_type": "stream",
          "name": "stdout",
          "text": [
            "Odd Number\n"
          ]
        }
      ]
    }
  ]
}