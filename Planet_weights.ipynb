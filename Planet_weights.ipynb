{
  "nbformat": 4,
  "nbformat_minor": 0,
  "metadata": {
    "colab": {
      "provenance": [],
      "authorship_tag": "ABX9TyNFQ4HSHuIMMct37UN98k/z",
      "include_colab_link": true
    },
    "kernelspec": {
      "name": "python3",
      "display_name": "Python 3"
    },
    "language_info": {
      "name": "python"
    }
  },
  "cells": [
    {
      "cell_type": "markdown",
      "metadata": {
        "id": "view-in-github",
        "colab_type": "text"
      },
      "source": [
        "<a href=\"https://colab.research.google.com/github/MuntahaTazeem5/Basic-Python-Projects/blob/main/Planet_weights.ipynb\" target=\"_parent\"><img src=\"https://colab.research.google.com/assets/colab-badge.svg\" alt=\"Open In Colab\"/></a>"
      ]
    },
    {
      "cell_type": "markdown",
      "source": [
        "The year is 2199... we have become an interplanetary species and can travel to other planets in the solar system! 🚀\n",
        "\n",
        "Create a weight conversion program that:\n",
        "\n",
        "Asks the user what their Earth weight is (as a float).\n",
        "Asks the user for a planet number (as an int).\n",
        "Then, use an if/elif/else statement to calculate the user's weight on the destination planet.\n",
        "\n",
        "To calculate the user's weight:\n",
        "\n",
        "destination weight=Earth weight × relative gravity\n",
        "Number\tPlanet\tRelative Gravity\n",
        "1\tMercury\t0.38\n",
        "2\tVenus\t0.91\n",
        "3\tMars\t0.38\n",
        "4\tJupiter\t2.53\n",
        "5\tSaturn\t1.07\n",
        "6\tUranus\t0.89\n",
        "7\tNeptune\t1.14\n",
        "If the user enters a planet number outside of 1 - 7, print a message that says 'Invalid planet number'.\n",
        "\n"
      ],
      "metadata": {
        "id": "t3SJA1EhA7wl"
      }
    },
    {
      "cell_type": "code",
      "source": [
        "Earth_weight=float(input(\"Enter your Weight: \"))\n"
      ],
      "metadata": {
        "colab": {
          "base_uri": "https://localhost:8080/"
        },
        "id": "gyEnufgdBF0O",
        "outputId": "80d51106-3bea-41e3-e95b-424686bc45bc"
      },
      "execution_count": 1,
      "outputs": [
        {
          "name": "stdout",
          "output_type": "stream",
          "text": [
            "Enter your Weight: 40.15\n"
          ]
        }
      ]
    },
    {
      "cell_type": "code",
      "source": [
        "Planet=int(input(\"Enter the Planet number: \"))\n"
      ],
      "metadata": {
        "colab": {
          "base_uri": "https://localhost:8080/"
        },
        "id": "r3sE5TvcBKW-",
        "outputId": "0eeae70e-c330-431a-a2ad-55e851d7b0d7"
      },
      "execution_count": 2,
      "outputs": [
        {
          "name": "stdout",
          "output_type": "stream",
          "text": [
            "Enter the Planet number: 5\n"
          ]
        }
      ]
    },
    {
      "cell_type": "code",
      "source": [
        "destination_weight=Earth_weight*1.07\n"
      ],
      "metadata": {
        "id": "lq5Y98pfBPow"
      },
      "execution_count": 3,
      "outputs": []
    },
    {
      "cell_type": "code",
      "source": [
        "if Planet == 1:\n",
        "  destination_weight = Earth_weight * 0.38\n",
        "  print(destination_weight)\n",
        "elif Planet == 2:\n",
        "  destination_weight = Earth_weight * 0.91\n",
        "  print(destination_weight)\n",
        "elif Planet == 3:\n",
        "  destination_weight= Earth_weight* 0.38\n",
        "  print(\"destination_weight\")\n",
        "elif Planet == 4:\n",
        "  destination_weight= Earth_weight* 2.53\n",
        "  print(destination_weight)\n",
        "elif Planet == 5:\n",
        "  destination_weight=Earth_weight* 1.07\n",
        "  print(destination_weight)\n",
        "elif Planet == 6:\n",
        "  destination_weight=Earth_weight* 0.89\n",
        "  print(destination_weight)\n",
        "elif Planet == 7:\n",
        "  destination_weight=Earth_weight* 1.14\n",
        "  print(destination_weight)\n",
        "else:\n",
        "  print=(\"Invalid Planet number\")"
      ],
      "metadata": {
        "colab": {
          "base_uri": "https://localhost:8080/"
        },
        "id": "vd13CSjcBSda",
        "outputId": "b31e2adc-dba4-49ac-c819-a90983eacced"
      },
      "execution_count": 4,
      "outputs": [
        {
          "output_type": "stream",
          "name": "stdout",
          "text": [
            "42.9605\n"
          ]
        }
      ]
    }
  ]
}