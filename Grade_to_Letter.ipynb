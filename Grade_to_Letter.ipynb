{
  "nbformat": 4,
  "nbformat_minor": 0,
  "metadata": {
    "colab": {
      "provenance": [],
      "authorship_tag": "ABX9TyM24qEzKvNgvCodAyV2lv98",
      "include_colab_link": true
    },
    "kernelspec": {
      "name": "python3",
      "display_name": "Python 3"
    },
    "language_info": {
      "name": "python"
    }
  },
  "cells": [
    {
      "cell_type": "markdown",
      "metadata": {
        "id": "view-in-github",
        "colab_type": "text"
      },
      "source": [
        "<a href=\"https://colab.research.google.com/github/MuntahaTazeem5/Basic-Python-Projects/blob/main/Grade_to_Letter.ipynb\" target=\"_parent\"><img src=\"https://colab.research.google.com/assets/colab-badge.svg\" alt=\"Open In Colab\"/></a>"
      ]
    },
    {
      "cell_type": "markdown",
      "source": [
        "Convert a numerical grade into a letter grade using standard grading scale.\n",
        "\n",
        "🧭 Instructions:\n",
        "\n",
        "Ask the user to input a grade between 0 and 100.\n",
        "\n",
        "Use if/elif/else to assign letter grades:\n",
        "\n",
        "90–100: A\n",
        "\n",
        "80–89: B\n",
        "\n",
        "70–79: C\n",
        "\n",
        "60–69: D\n",
        "\n",
        "Below 60: F\n",
        "\n",
        "Display the corresponding letter grade.\n",
        "\n",
        "Validate that the input is within 0–100.\n",
        "\n",
        "Use a function called convert_to_letter_grade(score)."
      ],
      "metadata": {
        "id": "1QmRWh7mGnk_"
      }
    },
    {
      "cell_type": "code",
      "source": [
        "grade=int(input(\"Please enter your grade: \"))"
      ],
      "metadata": {
        "colab": {
          "base_uri": "https://localhost:8080/"
        },
        "id": "YySxY0Z8Gy_M",
        "outputId": "b88adcc2-6dad-49ed-cf7a-44b91356a66d"
      },
      "execution_count": 7,
      "outputs": [
        {
          "name": "stdout",
          "output_type": "stream",
          "text": [
            "Please enter your grade: 80\n"
          ]
        }
      ]
    },
    {
      "cell_type": "code",
      "source": [
        "grade in range(0,101)"
      ],
      "metadata": {
        "colab": {
          "base_uri": "https://localhost:8080/"
        },
        "id": "HiWYTcSSHCl0",
        "outputId": "d9f77b1e-0484-45ca-952c-378c65235e44"
      },
      "execution_count": 2,
      "outputs": [
        {
          "output_type": "execute_result",
          "data": {
            "text/plain": [
              "True"
            ]
          },
          "metadata": {},
          "execution_count": 2
        }
      ]
    },
    {
      "cell_type": "code",
      "source": [
        "if grade in range(91,101):\n",
        "   print(\"A\")\n",
        "elif grade in range(80,91):\n",
        "   print(\"B\")\n",
        "elif grade in range(70,81):\n",
        "   print(\"C\")\n",
        "elif grade in range(60,71):\n",
        "   print(\"D\")\n",
        "else:\n",
        "   print(\"F\")"
      ],
      "metadata": {
        "colab": {
          "base_uri": "https://localhost:8080/"
        },
        "id": "piBvuFPrHFzk",
        "outputId": "c0f1fe4d-bee7-46c4-d9d6-4d8d08e7c45e"
      },
      "execution_count": 4,
      "outputs": [
        {
          "output_type": "stream",
          "name": "stdout",
          "text": [
            "B\n"
          ]
        }
      ]
    },
    {
      "cell_type": "markdown",
      "source": [
        "2nd Method:"
      ],
      "metadata": {
        "id": "ZjudsS0qJfM7"
      }
    },
    {
      "cell_type": "code",
      "source": [
        "# Function to convert numeric grade to letter grade\n",
        "def convert_to_letter_grade(score):\n",
        "    if 90 <= score <= 100:\n",
        "        return \"A\"\n",
        "    elif 80 <= score < 90:\n",
        "        return \"B\"\n",
        "    elif 70 <= score < 80:\n",
        "        return \"C\"\n",
        "    elif 60 <= score < 70:\n",
        "        return \"D\"\n",
        "    elif 0 <= score < 60:\n",
        "        return \"F\"\n",
        "    else:\n",
        "        return \"Invalid score\"\n",
        "\n",
        "# Main program\n",
        "try:\n",
        "    # Ask the user for input\n",
        "    score_input = float(input(\"Enter your grade (0 to 100): \"))\n",
        "\n",
        "    # Validate and convert the score\n",
        "    if 0 <= score_input <= 100:\n",
        "        grade = convert_to_letter_grade(score_input)\n",
        "        print(\"Your letter grade is:\", grade)\n",
        "    else:\n",
        "        print(\"Please enter a number between 0 and 100.\")\n",
        "\n",
        "except ValueError:\n",
        "    print(\"Invalid input. Please enter a valid number.\")\n"
      ],
      "metadata": {
        "colab": {
          "base_uri": "https://localhost:8080/"
        },
        "id": "gAuhj9b2JTi8",
        "outputId": "ae39e3cd-2314-40ee-f212-41689d04ed9c"
      },
      "execution_count": 10,
      "outputs": [
        {
          "output_type": "stream",
          "name": "stdout",
          "text": [
            "Enter your grade (0 to 100): 80\n",
            "Your letter grade is: B\n"
          ]
        }
      ]
    }
  ]
}