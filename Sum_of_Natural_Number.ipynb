{
  "nbformat": 4,
  "nbformat_minor": 0,
  "metadata": {
    "colab": {
      "provenance": [],
      "authorship_tag": "ABX9TyMcDdmUeeBIncc0BQYa+RRr",
      "include_colab_link": true
    },
    "kernelspec": {
      "name": "python3",
      "display_name": "Python 3"
    },
    "language_info": {
      "name": "python"
    }
  },
  "cells": [
    {
      "cell_type": "markdown",
      "metadata": {
        "id": "view-in-github",
        "colab_type": "text"
      },
      "source": [
        "<a href=\"https://colab.research.google.com/github/MuntahaTazeem5/Basic-Python-Projects/blob/main/Sum_of_Natural_Number.ipynb\" target=\"_parent\"><img src=\"https://colab.research.google.com/assets/colab-badge.svg\" alt=\"Open In Colab\"/></a>"
      ]
    },
    {
      "cell_type": "markdown",
      "source": [
        "Calculate the sum of the first N natural numbers using a while loop.\n",
        "\n",
        "Instructions:\n",
        "\n",
        "Ask the user to enter a positive integer N.\n",
        "\n",
        "Use a while loop to compute the sum of all numbers from 1 to N.\n",
        "\n",
        "Initialize a counter and add numbers one by one.\n",
        "\n",
        "Print the final result.\n",
        "\n",
        "Create a function named sum_natural_numbers(n)."
      ],
      "metadata": {
        "id": "Z3_FuAgcQQKj"
      }
    },
    {
      "cell_type": "code",
      "source": [
        "# Function to calculate sum of first n natural numbers using a while loop\n",
        "def sum_natural_numbers(n):\n",
        "    total = 0\n",
        "    counter = 1\n",
        "    while counter <= n:\n",
        "        total += counter\n",
        "        counter += 1\n",
        "    return total\n"
      ],
      "metadata": {
        "id": "L0dOnbLNSwiz"
      },
      "execution_count": 7,
      "outputs": []
    },
    {
      "cell_type": "code",
      "source": [],
      "metadata": {
        "id": "J-94AzoMSztD"
      },
      "execution_count": null,
      "outputs": []
    },
    {
      "cell_type": "code",
      "source": [
        "# Main program\n",
        "try:\n",
        "    number = int(input(\"Enter a positive integer: \"))\n",
        "    if number > 0:\n",
        "        result = sum_natural_numbers(number)\n",
        "        print(\"The sum of the first\", number, \"natural numbers is:\", result)\n",
        "    else:\n",
        "        print(\"Please enter a number greater than 0.\")\n",
        "except ValueError:\n",
        "    print(\"Invalid input. Please enter a valid integer.\")\n"
      ],
      "metadata": {
        "colab": {
          "base_uri": "https://localhost:8080/"
        },
        "id": "D5HMxHkiS19C",
        "outputId": "6de071f8-c186-48f2-e69c-f93752e871f2"
      },
      "execution_count": 8,
      "outputs": [
        {
          "output_type": "stream",
          "name": "stdout",
          "text": [
            "Enter a positive integer: 2\n",
            "The sum of the first 2 natural numbers is: 3\n"
          ]
        }
      ]
    }
  ]
}