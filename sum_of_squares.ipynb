{
  "nbformat": 4,
  "nbformat_minor": 0,
  "metadata": {
    "colab": {
      "provenance": [],
      "authorship_tag": "ABX9TyN+DcewIxCtnl69ozzE1R31",
      "include_colab_link": true
    },
    "kernelspec": {
      "name": "python3",
      "display_name": "Python 3"
    },
    "language_info": {
      "name": "python"
    }
  },
  "cells": [
    {
      "cell_type": "markdown",
      "metadata": {
        "id": "view-in-github",
        "colab_type": "text"
      },
      "source": [
        "<a href=\"https://colab.research.google.com/github/MuntahaTazeem5/Basic-Python-Projects/blob/main/sum_of_squares.ipynb\" target=\"_parent\"><img src=\"https://colab.research.google.com/assets/colab-badge.svg\" alt=\"Open In Colab\"/></a>"
      ]
    },
    {
      "cell_type": "markdown",
      "source": [
        "Instructions:\n",
        "\n",
        "A number is \"squared\" when it is either multiplied by itself or taken to the second power (e.g., 4² = 4 x 4 = 16).\n",
        "\n",
        "First, ask the user for an integer with int(input()) and store it in a number variable. Then, define a total variable with an initial value of 0.\n",
        "\n",
        "Note: You can pass a string prompt to int(input()).\n",
        "\n",
        "Next, use a for loop and range() function to calculate the total of the squares of all integers from 1 to that number.\n",
        "\n",
        "Last, print the output as an integer value.\n",
        "\n",
        "*italicized text*"
      ],
      "metadata": {
        "id": "oTEgXKe1SA3y"
      }
    },
    {
      "cell_type": "code",
      "source": [
        "number=int(input(\"Enter a number: \"))"
      ],
      "metadata": {
        "colab": {
          "base_uri": "https://localhost:8080/"
        },
        "id": "pDdzVa2NSDUT",
        "outputId": "7154b859-4cb6-4f76-db73-5c31e73750e0"
      },
      "execution_count": 1,
      "outputs": [
        {
          "name": "stdout",
          "output_type": "stream",
          "text": [
            "Enter a number: 5\n"
          ]
        }
      ]
    },
    {
      "cell_type": "code",
      "source": [
        "total=0"
      ],
      "metadata": {
        "id": "vMoNzIoGSWp3"
      },
      "execution_count": 2,
      "outputs": []
    },
    {
      "cell_type": "code",
      "source": [
        "for i in range(1,number+1):\n",
        "  square=i**2\n",
        "  total=total+square\n",
        "print(\"The square from 1 to\",number,\"is:\",total)"
      ],
      "metadata": {
        "colab": {
          "base_uri": "https://localhost:8080/"
        },
        "id": "nw5FvfkFSWSZ",
        "outputId": "138a86aa-3b11-46a6-8863-503126f043c0"
      },
      "execution_count": 3,
      "outputs": [
        {
          "output_type": "stream",
          "name": "stdout",
          "text": [
            "The square from 1 to 5 is: 55\n"
          ]
        }
      ]
    }
  ]
}