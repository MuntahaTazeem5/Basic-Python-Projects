{
  "nbformat": 4,
  "nbformat_minor": 0,
  "metadata": {
    "colab": {
      "provenance": [],
      "authorship_tag": "ABX9TyMK5seIsATlRzRAiMOxVKux",
      "include_colab_link": true
    },
    "kernelspec": {
      "name": "python3",
      "display_name": "Python 3"
    },
    "language_info": {
      "name": "python"
    }
  },
  "cells": [
    {
      "cell_type": "markdown",
      "metadata": {
        "id": "view-in-github",
        "colab_type": "text"
      },
      "source": [
        "<a href=\"https://colab.research.google.com/github/MuntahaTazeem5/Basic-Python-Projects/blob/main/Untitled3.ipynb\" target=\"_parent\"><img src=\"https://colab.research.google.com/assets/colab-badge.svg\" alt=\"Open In Colab\"/></a>"
      ]
    },
    {
      "cell_type": "markdown",
      "source": [
        "Calculate the simple interest based on principal, rate, and time.\n",
        "\n",
        "🧭 Instructions:\n",
        "\n",
        "Ask the user for:\n",
        "\n",
        "Principal amount (P)\n",
        "\n",
        "Annual interest rate (R)\n",
        "\n",
        "Time in years (T)\n",
        "\n",
        "Use the formula:\n",
        "SI = (P × R × T) / 100\n",
        "\n",
        "Print the result rounded to 2 decimal places.\n",
        "\n",
        "Define a function calculate_interest(p, r, t)."
      ],
      "metadata": {
        "id": "1HFNmE853tSS"
      }
    },
    {
      "cell_type": "code",
      "source": [
        "P=float(input(\"Enter the principal amount: \"))\n",
        "R=float(input(\"Enter the annual interest rate: \"))\n",
        "T=float(input(\"Enter the time in years: \"))"
      ],
      "metadata": {
        "colab": {
          "base_uri": "https://localhost:8080/"
        },
        "id": "vAP6_LZF3wBV",
        "outputId": "ecffc949-9f27-46df-e264-50b27cf01011"
      },
      "execution_count": 9,
      "outputs": [
        {
          "name": "stdout",
          "output_type": "stream",
          "text": [
            "Enter the principal amount: 22\n",
            "Enter the annual interest rate: 66.4\n",
            "Enter the time in years: 55.8\n"
          ]
        }
      ]
    },
    {
      "cell_type": "code",
      "source": [
        "def calculate_interest(p,r,t):\n",
        "    SI=(p*r*t)/100\n",
        "    return SI\n",
        ""
      ],
      "metadata": {
        "id": "hH16eJJN47Fd"
      },
      "execution_count": 13,
      "outputs": []
    },
    {
      "cell_type": "code",
      "source": [
        "simple_interest = calculate_interest(P, R, T)\n",
        "result = round(simple_interest, 2)"
      ],
      "metadata": {
        "id": "SpP9tlnf3_jG"
      },
      "execution_count": 10,
      "outputs": []
    },
    {
      "cell_type": "code",
      "source": [
        "print(\"Simple Interest is:\", result)\n"
      ],
      "metadata": {
        "id": "KLoFQiMm5Yky",
        "outputId": "6f96f2b5-1989-4998-91d5-a1ba7fd75466",
        "colab": {
          "base_uri": "https://localhost:8080/"
        }
      },
      "execution_count": 14,
      "outputs": [
        {
          "output_type": "stream",
          "name": "stdout",
          "text": [
            "Simple Interest is: 815.13\n"
          ]
        }
      ]
    }
  ]
}