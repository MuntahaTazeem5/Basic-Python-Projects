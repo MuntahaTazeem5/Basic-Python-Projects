{
  "nbformat": 4,
  "nbformat_minor": 0,
  "metadata": {
    "colab": {
      "provenance": [],
      "authorship_tag": "ABX9TyMqKLOrXmvTYFud9KBOhd4C",
      "include_colab_link": true
    },
    "kernelspec": {
      "name": "python3",
      "display_name": "Python 3"
    },
    "language_info": {
      "name": "python"
    }
  },
  "cells": [
    {
      "cell_type": "markdown",
      "metadata": {
        "id": "view-in-github",
        "colab_type": "text"
      },
      "source": [
        "<a href=\"https://colab.research.google.com/github/MuntahaTazeem5/Basic-Python-Projects/blob/main/Calculator.ipynb\" target=\"_parent\"><img src=\"https://colab.research.google.com/assets/colab-badge.svg\" alt=\"Open In Colab\"/></a>"
      ]
    },
    {
      "cell_type": "markdown",
      "source": [
        "Write a basic calculator that can perform addition, subtraction, multiplication, and division based on user input.\n",
        "Instructions:\n",
        "\n",
        "Ask the user to input two numbers.\n",
        "\n",
        "Ask the user to choose an operation (+, -, *, /).\n",
        "\n",
        "Use if/elif/else to determine which operation to perform.\n",
        "\n",
        "Display the result of the operation.\n",
        "\n",
        "Handle division by zero gracefully.\n",
        "\n",
        "Put the calculation logic inside a function called calculate(num1, num2, operator)."
      ],
      "metadata": {
        "id": "Ey7B3JWNEafk"
      }
    },
    {
      "cell_type": "code",
      "source": [
        "num1=float(input(\"Enter the number:\"))\n",
        "num2=float(input(\"Enter the number:\"))\n",
        "operator=input(\"Enter the operator:\")"
      ],
      "metadata": {
        "colab": {
          "base_uri": "https://localhost:8080/"
        },
        "id": "Lbke2d2aEjKd",
        "outputId": "ec37182e-7dbf-4585-ff63-2e1c6ba10d14"
      },
      "execution_count": 1,
      "outputs": [
        {
          "name": "stdout",
          "output_type": "stream",
          "text": [
            "Enter the number:2\n",
            "Enter the number:6\n",
            "Enter the operator:*\n"
          ]
        }
      ]
    },
    {
      "cell_type": "code",
      "source": [
        "if operator==\"+\":\n",
        "    print(num1+num2)\n",
        "elif operator==\"-\":\n",
        "    print(num1-num2)\n",
        "elif operator==\"*\":\n",
        "    print(num1*num2)"
      ],
      "metadata": {
        "colab": {
          "base_uri": "https://localhost:8080/"
        },
        "id": "1bKqWKboFEEz",
        "outputId": "0769d246-1410-47e1-fb6b-62075e9ec207"
      },
      "execution_count": 2,
      "outputs": [
        {
          "output_type": "stream",
          "name": "stdout",
          "text": [
            "12.0\n"
          ]
        }
      ]
    }
  ]
}