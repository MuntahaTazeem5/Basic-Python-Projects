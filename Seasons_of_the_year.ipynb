{
  "nbformat": 4,
  "nbformat_minor": 0,
  "metadata": {
    "colab": {
      "provenance": [],
      "authorship_tag": "ABX9TyPVzGHbFoKvcZmmMCNUkOqm",
      "include_colab_link": true
    },
    "kernelspec": {
      "name": "python3",
      "display_name": "Python 3"
    },
    "language_info": {
      "name": "python"
    }
  },
  "cells": [
    {
      "cell_type": "markdown",
      "metadata": {
        "id": "view-in-github",
        "colab_type": "text"
      },
      "source": [
        "<a href=\"https://colab.research.google.com/github/MuntahaTazeem5/Basic-Python-Projects/blob/main/Seasons_of_the_year.ipynb\" target=\"_parent\"><img src=\"https://colab.research.google.com/assets/colab-badge.svg\" alt=\"Open In Colab\"/></a>"
      ]
    },
    {
      "cell_type": "markdown",
      "source": [
        "Ah, the four seasons in the year — winter, spring, summer, or fall; all you have to do is call!\n",
        "\n",
        "Ask the user the month number using the input() function.\n",
        "\n",
        "Check for the four seasons using an if/elif/else statement and logical operators:\n",
        "\n",
        "month is 1, 2, 3, print 'Winter 🌨️'\n",
        "month is 4, 5, 6, print 'Spring 🌱'\n",
        "month is 7, 8, 9, print 'Summer 🌻'\n",
        "month is 10, 11, 12, print 'Autumn 🍂'\n",
        "Everything else is 'Invalid'\n",
        "Logical operators in Python include the and and or keywords. Which one should you use?\n",
        "\n"
      ],
      "metadata": {
        "id": "kZT2LRvR7-NB"
      }
    },
    {
      "cell_type": "code",
      "source": [
        "month_num=int(input(\"Enter Month Number: \"))"
      ],
      "metadata": {
        "colab": {
          "base_uri": "https://localhost:8080/"
        },
        "id": "f1tQZNTB8AFn",
        "outputId": "914114af-28a1-4c07-f655-e501c290fbab"
      },
      "execution_count": 1,
      "outputs": [
        {
          "name": "stdout",
          "output_type": "stream",
          "text": [
            "Enter Month Number: 3\n"
          ]
        }
      ]
    },
    {
      "cell_type": "code",
      "source": [
        "if month_num==1 or 2 or 3:\n",
        "  print(\"Winter\")\n",
        "elif month_num==4 or 5 or 6:\n",
        "  print(\"Spring\")\n",
        "elif month_num==7 or 8 or 9:\n",
        "  print(\"Summer\")\n",
        "elif month_num==10 or 11 or 12:\n",
        "  print(\"Autumn\")\n",
        "else:\n",
        "  print(\"Invalid\")"
      ],
      "metadata": {
        "colab": {
          "base_uri": "https://localhost:8080/"
        },
        "id": "Gis_fODa8Ct0",
        "outputId": "c24d85b6-e64f-4b41-8da9-8c8f990e2041"
      },
      "execution_count": 3,
      "outputs": [
        {
          "output_type": "stream",
          "name": "stdout",
          "text": [
            "Winter\n"
          ]
        }
      ]
    }
  ]
}